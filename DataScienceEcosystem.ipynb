{
  "nbformat": 4,
  "nbformat_minor": 0,
  "metadata": {
    "colab": {
      "provenance": []
    },
    "kernelspec": {
      "name": "python3",
      "display_name": "Python 3"
    },
    "language_info": {
      "name": "python"
    }
  },
  "cells": [
    {
      "cell_type": "markdown",
      "source": [
        "# Data Science Tools and Ecosystem\n"
      ],
      "metadata": {
        "id": "-mYH-7lG67Ac"
      }
    },
    {
      "cell_type": "markdown",
      "source": [
        "# In this notebook, Data Science Tools and Ecosystem are summarized.\n",
        "\n"
      ],
      "metadata": {
        "id": "-7cnVd01HiVK"
      }
    },
    {
      "cell_type": "markdown",
      "source": [
        "**Objectives:**\n",
        "\n",
        "* List popular languages for Data Science\n",
        "* Create a single-column table in a Google Colab notebook\n",
        "* Evaluate arithmetic expressions in Python\n",
        "* Convert minutes to hours using Python"
      ],
      "metadata": {
        "id": "SDjiWBvJXbr9"
      }
    },
    {
      "cell_type": "markdown",
      "source": [
        "## Author\n",
        "WONG HUNG CHING, Gabriel"
      ],
      "metadata": {
        "id": "IxkiOyeZYMFK"
      }
    },
    {
      "cell_type": "markdown",
      "source": [
        "# Some of the popular languages that Data Scientists use are:\n",
        "*   Chinese\n",
        "*   English\n",
        "*   Spanish\n",
        "*   Cantonese\n"
      ],
      "metadata": {
        "id": "a67m5QjaJRaB"
      }
    },
    {
      "cell_type": "markdown",
      "source": [
        "# Some of the commonly used libraries used by Data Scientists include:\n",
        "\n",
        "\n",
        "*   Pandas\n",
        "*   NumPy\n",
        "*   Matplotlib\n",
        "*   Scikit-learn\n",
        "\n",
        "\n",
        "\n"
      ],
      "metadata": {
        "id": "JFf8_d4-Lsaf"
      }
    },
    {
      "cell_type": "markdown",
      "source": [
        "<table>\n",
        "  <tr><td>Data Science Tools</td></tr>\n",
        "  <tr><td>Jupyter Notebook</td></tr>\n",
        "  <tr><td>RStudio</td></tr>\n",
        "  <tr><td>VS Code</td></tr>\n",
        "</table>"
      ],
      "metadata": {
        "id": "gKc2nf_LNMAG"
      }
    },
    {
      "cell_type": "markdown",
      "source": [
        "### Below are a few examples of evaluating arithmetic expressions in Python.\n",
        "* `2 + 3` evaluates to **5**\n",
        "* `5 - 2` evaluates to **3**\n",
        "* `4 * 6` evaluates to **24**\n",
        "* `8 / 2` evaluates to **4.0**"
      ],
      "metadata": {
        "id": "SCgPnJImRqJm"
      }
    },
    {
      "cell_type": "code",
      "source": [
        "# This is a simple arithmetic expression to multiply then add integers.\n",
        "result = (3*4)+5\n",
        "print(result)"
      ],
      "metadata": {
        "colab": {
          "base_uri": "https://localhost:8080/"
        },
        "id": "YxpU66IwIhZB",
        "outputId": "1d9af401-3464-4e13-ff36-04b109dc043e"
      },
      "execution_count": 1,
      "outputs": [
        {
          "output_type": "stream",
          "name": "stdout",
          "text": [
            "17\n"
          ]
        }
      ]
    },
    {
      "cell_type": "code",
      "source": [
        "# This will convert 200 minutes to hours by dividing by 60.\n",
        "hours = 200 / 60\n",
        "print(hours)"
      ],
      "metadata": {
        "colab": {
          "base_uri": "https://localhost:8080/"
        },
        "id": "FlgJonGhLYu8",
        "outputId": "c1c0195d-4aa3-453a-e844-6cb1f5b9ea08"
      },
      "execution_count": 2,
      "outputs": [
        {
          "output_type": "stream",
          "name": "stdout",
          "text": [
            "3.3333333333333335\n"
          ]
        }
      ]
    }
  ]
}